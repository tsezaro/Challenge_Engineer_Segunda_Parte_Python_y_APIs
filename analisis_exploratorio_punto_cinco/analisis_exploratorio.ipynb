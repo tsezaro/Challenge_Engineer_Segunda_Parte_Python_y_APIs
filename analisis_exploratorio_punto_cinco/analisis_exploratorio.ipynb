{
 "cells": [
  {
   "cell_type": "code",
   "execution_count": 4,
   "metadata": {},
   "outputs": [],
   "source": [
    "# Voy a realizar algunos Análisis Exploratorio de Datos (EDA) "
   ]
  },
  {
   "cell_type": "code",
   "execution_count": 5,
   "metadata": {},
   "outputs": [],
   "source": [
    "# Importo las librerias que me brinda Python.\n",
    "\n",
    "import pandas as pd \n",
    "import numpy as np \n",
    "import matplotlib.pyplot as plt \n",
    "import seaborn as seabornInstance \n",
    "import seaborn as sns\n",
    "import sklearn.model_selection \n",
    "from sklearn.model_selection import train_test_split\n",
    "from sklearn.linear_model import LinearRegression\n",
    "from sklearn import metrics\n",
    "%matplotlib inline"
   ]
  },
  {
   "cell_type": "code",
   "execution_count": 7,
   "metadata": {},
   "outputs": [
    {
     "data": {
      "text/html": [
       "<div>\n",
       "<style scoped>\n",
       "    .dataframe tbody tr th:only-of-type {\n",
       "        vertical-align: middle;\n",
       "    }\n",
       "\n",
       "    .dataframe tbody tr th {\n",
       "        vertical-align: top;\n",
       "    }\n",
       "\n",
       "    .dataframe thead th {\n",
       "        text-align: right;\n",
       "    }\n",
       "</style>\n",
       "<table border=\"1\" class=\"dataframe\">\n",
       "  <thead>\n",
       "    <tr style=\"text-align: right;\">\n",
       "      <th></th>\n",
       "      <th>ID</th>\n",
       "      <th>Título</th>\n",
       "      <th>Precio</th>\n",
       "      <th>Precio Original</th>\n",
       "      <th>Condición</th>\n",
       "      <th>Cantidad disponible</th>\n",
       "      <th>Marca</th>\n",
       "      <th>Envío gratuito</th>\n",
       "    </tr>\n",
       "  </thead>\n",
       "  <tbody>\n",
       "    <tr>\n",
       "      <th>0</th>\n",
       "      <td>MLA1422976047</td>\n",
       "      <td>Celular Quantum Q10 Negro 4gb Ram + 128gb</td>\n",
       "      <td>148800.0</td>\n",
       "      <td>193999.0</td>\n",
       "      <td>new</td>\n",
       "      <td>1</td>\n",
       "      <td>Quantum</td>\n",
       "      <td>True</td>\n",
       "    </tr>\n",
       "    <tr>\n",
       "      <th>1</th>\n",
       "      <td>MLA1570099690</td>\n",
       "      <td>Moto G84 5g Color Viva Magenta</td>\n",
       "      <td>499999.0</td>\n",
       "      <td>549999.0</td>\n",
       "      <td>new</td>\n",
       "      <td>50</td>\n",
       "      <td>Motorola</td>\n",
       "      <td>True</td>\n",
       "    </tr>\n",
       "    <tr>\n",
       "      <th>2</th>\n",
       "      <td>MLA1658689660</td>\n",
       "      <td>Xiaomi Redmi Note 11 4gb Ram 128gb Rom Color G...</td>\n",
       "      <td>323519.0</td>\n",
       "      <td>369999.0</td>\n",
       "      <td>new</td>\n",
       "      <td>50</td>\n",
       "      <td>Xiaomi</td>\n",
       "      <td>True</td>\n",
       "    </tr>\n",
       "    <tr>\n",
       "      <th>3</th>\n",
       "      <td>MLA1471211850</td>\n",
       "      <td>Motorola Moto E22 64gb Azul 4gb Ram</td>\n",
       "      <td>229999.0</td>\n",
       "      <td>249999.0</td>\n",
       "      <td>new</td>\n",
       "      <td>500</td>\n",
       "      <td>Motorola</td>\n",
       "      <td>True</td>\n",
       "    </tr>\n",
       "    <tr>\n",
       "      <th>4</th>\n",
       "      <td>MLA1399356383</td>\n",
       "      <td>Teléfono Celular Tcl 408 (6+64) Gravity Gray Rva</td>\n",
       "      <td>189999.0</td>\n",
       "      <td>222599.0</td>\n",
       "      <td>new</td>\n",
       "      <td>1</td>\n",
       "      <td>TCL</td>\n",
       "      <td>True</td>\n",
       "    </tr>\n",
       "  </tbody>\n",
       "</table>\n",
       "</div>"
      ],
      "text/plain": [
       "              ID                                             Título    Precio  \\\n",
       "0  MLA1422976047          Celular Quantum Q10 Negro 4gb Ram + 128gb  148800.0   \n",
       "1  MLA1570099690                     Moto G84 5g Color Viva Magenta  499999.0   \n",
       "2  MLA1658689660  Xiaomi Redmi Note 11 4gb Ram 128gb Rom Color G...  323519.0   \n",
       "3  MLA1471211850                Motorola Moto E22 64gb Azul 4gb Ram  229999.0   \n",
       "4  MLA1399356383   Teléfono Celular Tcl 408 (6+64) Gravity Gray Rva  189999.0   \n",
       "\n",
       "   Precio Original Condición  Cantidad disponible     Marca  Envío gratuito  \n",
       "0         193999.0       new                    1   Quantum            True  \n",
       "1         549999.0       new                   50  Motorola            True  \n",
       "2         369999.0       new                   50    Xiaomi            True  \n",
       "3         249999.0       new                  500  Motorola            True  \n",
       "4         222599.0       new                    1       TCL            True  "
      ]
     },
     "execution_count": 7,
     "metadata": {},
     "output_type": "execute_result"
    }
   ],
   "source": [
    "# Realizo la importación de los datos.\n",
    "\n",
    "df = pd.read_csv('celulares.csv', encoding='latin1')\n",
    "df.head()"
   ]
  },
  {
   "cell_type": "code",
   "execution_count": 8,
   "metadata": {},
   "outputs": [
    {
     "data": {
      "text/plain": [
       "(150, 8)"
      ]
     },
     "execution_count": 8,
     "metadata": {},
     "output_type": "execute_result"
    }
   ],
   "source": [
    "# Realizo la función shape para comprobar los registros y columnas de mi dataset. \n",
    "\n",
    "df.shape"
   ]
  },
  {
   "cell_type": "code",
   "execution_count": 10,
   "metadata": {},
   "outputs": [
    {
     "data": {
      "text/plain": [
       "True"
      ]
     },
     "execution_count": 10,
     "metadata": {},
     "output_type": "execute_result"
    }
   ],
   "source": [
    "# Consulto si hay algún valor null (NaN), me devolverá un booleano que en caso de ser true es porque si hay valores Nan.\n",
    "\n",
    "df.isnull().values.any()"
   ]
  },
  {
   "cell_type": "code",
   "execution_count": 11,
   "metadata": {},
   "outputs": [
    {
     "data": {
      "text/plain": [
       "ID                     False\n",
       "Título                 False\n",
       "Precio                 False\n",
       "Precio Original         True\n",
       "Condición              False\n",
       "Cantidad disponible    False\n",
       "Marca                  False\n",
       "Envío gratuito         False\n",
       "dtype: bool"
      ]
     },
     "execution_count": 11,
     "metadata": {},
     "output_type": "execute_result"
    }
   ],
   "source": [
    "# Averiguo en que columnas hay valores null.\n",
    "\n",
    "df.isnull().any()"
   ]
  },
  {
   "cell_type": "code",
   "execution_count": 12,
   "metadata": {},
   "outputs": [
    {
     "data": {
      "text/html": [
       "<div>\n",
       "<style scoped>\n",
       "    .dataframe tbody tr th:only-of-type {\n",
       "        vertical-align: middle;\n",
       "    }\n",
       "\n",
       "    .dataframe tbody tr th {\n",
       "        vertical-align: top;\n",
       "    }\n",
       "\n",
       "    .dataframe thead th {\n",
       "        text-align: right;\n",
       "    }\n",
       "</style>\n",
       "<table border=\"1\" class=\"dataframe\">\n",
       "  <thead>\n",
       "    <tr style=\"text-align: right;\">\n",
       "      <th></th>\n",
       "      <th>ID</th>\n",
       "      <th>Título</th>\n",
       "      <th>Precio</th>\n",
       "      <th>Condición</th>\n",
       "      <th>Cantidad disponible</th>\n",
       "      <th>Marca</th>\n",
       "      <th>Envío gratuito</th>\n",
       "    </tr>\n",
       "  </thead>\n",
       "  <tbody>\n",
       "    <tr>\n",
       "      <th>0</th>\n",
       "      <td>MLA1422976047</td>\n",
       "      <td>Celular Quantum Q10 Negro 4gb Ram + 128gb</td>\n",
       "      <td>148800.0</td>\n",
       "      <td>new</td>\n",
       "      <td>1</td>\n",
       "      <td>Quantum</td>\n",
       "      <td>True</td>\n",
       "    </tr>\n",
       "    <tr>\n",
       "      <th>1</th>\n",
       "      <td>MLA1570099690</td>\n",
       "      <td>Moto G84 5g Color Viva Magenta</td>\n",
       "      <td>499999.0</td>\n",
       "      <td>new</td>\n",
       "      <td>50</td>\n",
       "      <td>Motorola</td>\n",
       "      <td>True</td>\n",
       "    </tr>\n",
       "    <tr>\n",
       "      <th>2</th>\n",
       "      <td>MLA1658689660</td>\n",
       "      <td>Xiaomi Redmi Note 11 4gb Ram 128gb Rom Color G...</td>\n",
       "      <td>323519.0</td>\n",
       "      <td>new</td>\n",
       "      <td>50</td>\n",
       "      <td>Xiaomi</td>\n",
       "      <td>True</td>\n",
       "    </tr>\n",
       "    <tr>\n",
       "      <th>3</th>\n",
       "      <td>MLA1471211850</td>\n",
       "      <td>Motorola Moto E22 64gb Azul 4gb Ram</td>\n",
       "      <td>229999.0</td>\n",
       "      <td>new</td>\n",
       "      <td>500</td>\n",
       "      <td>Motorola</td>\n",
       "      <td>True</td>\n",
       "    </tr>\n",
       "    <tr>\n",
       "      <th>4</th>\n",
       "      <td>MLA1399356383</td>\n",
       "      <td>Teléfono Celular Tcl 408 (6+64) Gravity Gray Rva</td>\n",
       "      <td>189999.0</td>\n",
       "      <td>new</td>\n",
       "      <td>1</td>\n",
       "      <td>TCL</td>\n",
       "      <td>True</td>\n",
       "    </tr>\n",
       "  </tbody>\n",
       "</table>\n",
       "</div>"
      ],
      "text/plain": [
       "              ID                                             Título    Precio  \\\n",
       "0  MLA1422976047          Celular Quantum Q10 Negro 4gb Ram + 128gb  148800.0   \n",
       "1  MLA1570099690                     Moto G84 5g Color Viva Magenta  499999.0   \n",
       "2  MLA1658689660  Xiaomi Redmi Note 11 4gb Ram 128gb Rom Color G...  323519.0   \n",
       "3  MLA1471211850                Motorola Moto E22 64gb Azul 4gb Ram  229999.0   \n",
       "4  MLA1399356383   Teléfono Celular Tcl 408 (6+64) Gravity Gray Rva  189999.0   \n",
       "\n",
       "  Condición  Cantidad disponible     Marca  Envío gratuito  \n",
       "0       new                    1   Quantum            True  \n",
       "1       new                   50  Motorola            True  \n",
       "2       new                   50    Xiaomi            True  \n",
       "3       new                  500  Motorola            True  \n",
       "4       new                    1       TCL            True  "
      ]
     },
     "execution_count": 12,
     "metadata": {},
     "output_type": "execute_result"
    }
   ],
   "source": [
    "# únicamente tuve valores null en la columna Precio Original, por lo que decido eliminarla para simplificar de manera resolutiva.\n",
    "\n",
    "df.drop([\"Precio Original\"], axis = 1, inplace = True)\n",
    "df.head()"
   ]
  },
  {
   "cell_type": "code",
   "execution_count": 13,
   "metadata": {},
   "outputs": [
    {
     "data": {
      "text/plain": [
       "False"
      ]
     },
     "execution_count": 13,
     "metadata": {},
     "output_type": "execute_result"
    }
   ],
   "source": [
    "# Constato que ahora no se encuentran valores null en el dataset.\n",
    "\n",
    "df.isnull().values.any()"
   ]
  },
  {
   "cell_type": "code",
   "execution_count": 18,
   "metadata": {},
   "outputs": [
    {
     "name": "stdout",
     "output_type": "stream",
     "text": [
      "Promedio por Marca:\n",
      "Marca\n",
      "Alcatel                $228,969.00\n",
      "Apple                $1,192,635.55\n",
      "BLU                     $95,550.80\n",
      "CAT                    $403,363.50\n",
      "Doogee                 $660,000.00\n",
      "Excess                  $32,933.00\n",
      "GENERICO 106 f183       $49,898.00\n",
      "Kanji                   $25,512.00\n",
      "Kodak                   $92,477.80\n",
      "Konka                  $165,729.50\n",
      "LG                      $98,898.00\n",
      "Motorola               $371,572.57\n",
      "Noblex                  $97,484.00\n",
      "Nokia                   $63,731.50\n",
      "Philco                  $61,999.00\n",
      "Pixpro                  $54,500.00\n",
      "Quantum                $112,492.12\n",
      "Roadstar                $57,498.00\n",
      "Samsung                $489,703.39\n",
      "TCL                    $234,749.00\n",
      "Xiaomi                 $403,926.65\n",
      "ZTE                    $148,165.67\n",
      "iPro                    $51,257.88\n",
      "Name: Precio, dtype: object\n"
     ]
    }
   ],
   "source": [
    "# Analizaré los datos que tienen que ver con las Marcas de celulares.\n",
    "# Calculo el promedio de cada Marca de Celular según su valor Precio. \n",
    "promedio_por_marca = df.groupby(\"Marca\")[\"Precio\"].mean()\n",
    "\n",
    "# Defino una función para formatear los números\n",
    "def formato_precio(numero):\n",
    "    return f\"${numero:,.2f}\"  # Agrega separadores de miles y dos decimales\n",
    "\n",
    "# Aplico la función de formato a la Serie 'promedio_por_marca'\n",
    "promedio_por_marca_formateado = promedio_por_marca.map(formato_precio)\n",
    "\n",
    "# Muestro el resultado formateado\n",
    "print(\"Promedio por Marca:\")\n",
    "print(promedio_por_marca_formateado)\n"
   ]
  },
  {
   "cell_type": "code",
   "execution_count": 24,
   "metadata": {},
   "outputs": [
    {
     "name": "stdout",
     "output_type": "stream",
     "text": [
      "\n",
      "Porcentaje por Marca:\n",
      " Marca\n",
      "Alcatel               4.409146\n",
      "Apple                22.966008\n",
      "BLU                   1.839976\n",
      "CAT                   7.767376\n",
      "Doogee               12.709302\n",
      "Excess                0.634175\n",
      "GENERICO 106 f183     0.960862\n",
      "Kanji                 0.491272\n",
      "Kodak                 1.780800\n",
      "Konka                 3.191373\n",
      "LG                    1.904431\n",
      "Motorola              7.155194\n",
      "Noblex                1.877202\n",
      "Nokia                 1.227247\n",
      "Philco                1.193885\n",
      "Pixpro                1.049480\n",
      "Quantum               2.166206\n",
      "Roadstar              1.107211\n",
      "Samsung               9.429982\n",
      "TCL                   4.520448\n",
      "Xiaomi                7.778221\n",
      "ZTE                   2.853155\n",
      "iPro                  0.987048\n",
      "Name: Precio, dtype: float64\n"
     ]
    }
   ],
   "source": [
    "# Calculo el porcentaje representativo de cada Marca de Celular.\n",
    "\n",
    "# Elimino el símbolo de dólar y convierto las cadenas en números\n",
    "promedio_por_marca_numerico = promedio_por_marca_formateado.replace({'\\$': '', ',': ''}, regex=True).astype(float)\n",
    "\n",
    "# Calculo el total\n",
    "total = promedio_por_marca_numerico.sum()\n",
    "\n",
    "# Calculo el porcentaje representativo de cada marca de celular\n",
    "porcentaje_por_marca = (promedio_por_marca_numerico / total) * 100\n",
    "\n",
    "# Muestro el resultado\n",
    "print(\"\\nPorcentaje por Marca:\\n\", porcentaje_por_marca)"
   ]
  },
  {
   "cell_type": "code",
   "execution_count": 25,
   "metadata": {},
   "outputs": [
    {
     "name": "stdout",
     "output_type": "stream",
     "text": [
      "\n",
      "Tipo con mayor porcentaje: Apple\n"
     ]
    }
   ],
   "source": [
    "# Determino cual es la Marca con mayor porcentaje de todos.\n",
    "\n",
    "tipo_mayor = porcentaje_por_marca.idxmax()\n",
    "print(\"\\nTipo con mayor porcentaje:\", tipo_mayor)"
   ]
  },
  {
   "cell_type": "code",
   "execution_count": 51,
   "metadata": {},
   "outputs": [
    {
     "data": {
      "image/png": "[encoded data removed]",
      "text/plain": [
       "<Figure size 640x480 with 1 Axes>"
      ]
     },
     "metadata": {},
     "output_type": "display_data"
    }
   ],
   "source": [
    "# Vuelco los valores en un gráfico representativo.\n",
    "\n",
    "\n",
    "# Obtengo una lista de 23 colores distintos de la paleta de colores de Seaborn\n",
    "colores = sns.color_palette('hls', n_colors=23)\n",
    "\n",
    "# Vuelco los valores en un gráfico representativo.\n",
    "plt.pie(porcentaje_por_marca, colors=colores, autopct='%1.1f%%', startangle=140, pctdistance=1.13)\n",
    "plt.axis('equal')\n",
    "plt.title('Promedio por Marca de Celular.', y=1.1)  # Mover el título hacia arriba\n",
    "\n",
    "# Mostrar leyenda con etiquetas y colores al costado del gráfico\n",
    "plt.legend(porcentaje_por_marca.index, loc=\"center left\", bbox_to_anchor=(1, 0.5))\n",
    "\n",
    "plt.show()"
   ]
  },
  {
   "cell_type": "code",
   "execution_count": 52,
   "metadata": {},
   "outputs": [
    {
     "name": "stdout",
     "output_type": "stream",
     "text": [
      "Porcentaje de Celulares con Envio gratuito: 100.0%\n"
     ]
    }
   ],
   "source": [
    "# Para los datos de los Celulares con Envío gratuito.\n",
    "# Cuento la cantidad de ocurrencias de cada valor en la columna \"Envío gratuito\"\n",
    "# Obtengo el porcentaje de Celulares con Envío gratuito.\n",
    "\n",
    "envio_gratuito_counts = df['Envío gratuito'].value_counts()\n",
    "percentage_envio_gratuito = (envio_gratuito_counts[True] / len(df)) * 100\n",
    "\n",
    "print(f\"Porcentaje de Celulares con Envio gratuito: {percentage_envio_gratuito:.1f}%\")"
   ]
  },
  {
   "cell_type": "code",
   "execution_count": 66,
   "metadata": {},
   "outputs": [],
   "source": [
    "# Ahora trabajaré con un valor agregado de clasificación para mis datos.\n",
    "# Decido crear un concepto nuevo denominado Calificación partiendo de los valores de precio y etiquetándolos según un criterio.\n",
    "\n",
    "df['Calificación'] = pd.cut(df.Precio, bins=[0,350000 ,700000, 1200000 ,float('inf')], labels=['Barato','Moderado','Caro','Premium'])"
   ]
  },
  {
   "cell_type": "code",
   "execution_count": 64,
   "metadata": {},
   "outputs": [
    {
     "data": {
      "text/plain": [
       "(150, 3)"
      ]
     },
     "execution_count": 64,
     "metadata": {},
     "output_type": "execute_result"
    }
   ],
   "source": [
    "# Noto que ya se reconoce a Calificación como una columna más.\n",
    "\n",
    "df[['Marca','Calificación','Precio']].shape"
   ]
  },
  {
   "cell_type": "code",
   "execution_count": 67,
   "metadata": {},
   "outputs": [
    {
     "data": {
      "text/plain": [
       "Calificación\n",
       "Barato      96\n",
       "Moderado    33\n",
       "Caro        14\n",
       "Premium      7\n",
       "Name: count, dtype: int64"
      ]
     },
     "execution_count": 67,
     "metadata": {},
     "output_type": "execute_result"
    }
   ],
   "source": [
    "# Obtengo la cantidad de registros por Calificación\n",
    "\n",
    "df.Calificación.value_counts()"
   ]
  },
  {
   "cell_type": "code",
   "execution_count": 69,
   "metadata": {},
   "outputs": [
    {
     "data": {
      "text/plain": [
       "Calificación\n",
       "Barato      0.640000\n",
       "Moderado    0.220000\n",
       "Caro        0.093333\n",
       "Premium     0.046667\n",
       "Name: proportion, dtype: float64"
      ]
     },
     "execution_count": 69,
     "metadata": {},
     "output_type": "execute_result"
    }
   ],
   "source": [
    "# Outliers normalizados. \n",
    "\n",
    "df.Calificación.value_counts(normalize=True)"
   ]
  },
  {
   "cell_type": "code",
   "execution_count": 72,
   "metadata": {},
   "outputs": [
    {
     "data": {
      "image/png": "[encoded data removed]",
      "text/plain": [
       "<Figure size 640x480 with 1 Axes>"
      ]
     },
     "metadata": {},
     "output_type": "display_data"
    }
   ],
   "source": [
    "# Guardo los valores en una variable\n",
    "calificacion_counts = df.Calificación.value_counts(normalize=True)\n",
    "\n",
    "# Grafico el conteo de cada categoría en un gráfico de pastel\n",
    "explode = [0.02] * len(calificacion_counts)\n",
    "calificacion_counts.plot.pie(autopct='%1.1f%%', ylabel='', explode=explode)\n",
    "plt.show()"
   ]
  },
  {
   "cell_type": "code",
   "execution_count": 73,
   "metadata": {},
   "outputs": [
    {
     "data": {
      "text/plain": [
       "Calificación\n",
       "Barato      17105130.15\n",
       "Moderado    16686252.00\n",
       "Caro        12570461.80\n",
       "Premium     10935294.45\n",
       "Name: Precio, dtype: float64"
      ]
     },
     "execution_count": 73,
     "metadata": {},
     "output_type": "execute_result"
    }
   ],
   "source": [
    "# Obtengo el total de la suma de sus Precios.\n",
    "\n",
    "df.groupby(['Calificación'])['Precio'].sum()"
   ]
  },
  {
   "cell_type": "code",
   "execution_count": 75,
   "metadata": {},
   "outputs": [
    {
     "name": "stdout",
     "output_type": "stream",
     "text": [
      "Calificación\n",
      "Barato        $178,178.44\n",
      "Moderado      $505,644.00\n",
      "Caro          $897,890.13\n",
      "Premium     $1,562,184.92\n",
      "Name: Precio, dtype: object\n"
     ]
    }
   ],
   "source": [
    "# Determino la media \n",
    "media_precios_por_calificacion = df.groupby(['Calificación'])['Precio'].mean()\n",
    "\n",
    "# Aplicar la función de formato a cada número de la media de precios\n",
    "media_precios_por_calificacion_formateada = media_precios_por_calificacion.apply(formato_precio)\n",
    "\n",
    "# Mostrar los resultados\n",
    "print(media_precios_por_calificacion_formateada)"
   ]
  },
  {
   "cell_type": "code",
   "execution_count": 78,
   "metadata": {},
   "outputs": [
    {
     "name": "stdout",
     "output_type": "stream",
     "text": [
      "Suma de precios por marca:\n",
      "Marca\n",
      "Alcatel                228969.00\n",
      "Apple                13118991.05\n",
      "BLU                    477754.00\n",
      "CAT                   1613454.00\n",
      "Doogee                 660000.00\n",
      "Excess                  32933.00\n",
      "GENERICO 106 f183       49898.00\n",
      "Kanji                   25512.00\n",
      "Kodak                  462389.00\n",
      "Konka                  331459.00\n",
      "LG                      98898.00\n",
      "Motorola             10404032.00\n",
      "Noblex                 194968.00\n",
      "Nokia                  254926.00\n",
      "Philco                  61999.00\n",
      "Pixpro                  54500.00\n",
      "Quantum                674952.75\n",
      "Roadstar                57498.00\n",
      "Samsung              16649915.20\n",
      "TCL                   1408494.00\n",
      "Xiaomi                9290313.00\n",
      "ZTE                    888994.00\n",
      "iPro                   256289.40\n",
      "Name: Precio, dtype: float64\n"
     ]
    }
   ],
   "source": [
    "# Decido agrupar mis datos por Marca y ver la suma de sus precios.\n",
    "\n",
    "# Agrupar por marca\n",
    "datos_agrupados_marca = df.groupby('Marca')\n",
    "\n",
    "# Obtener la suma de precios por marca\n",
    "suma_precios_marca = datos_agrupados_marca['Precio'].sum()\n",
    "\n",
    "# Mostrar la suma de precios por marca\n",
    "print(\"Suma de precios por marca:\")\n",
    "print(suma_precios_marca)"
   ]
  },
  {
   "cell_type": "code",
   "execution_count": 90,
   "metadata": {},
   "outputs": [
    {
     "data": {
      "image/png": "[encoded data removed]",
      "text/plain": [
       "<Figure size 1000x600 with 1 Axes>"
      ]
     },
     "metadata": {},
     "output_type": "display_data"
    }
   ],
   "source": [
    "# Creo el gráfico de columnas\n",
    "plt.figure(figsize=(10, 6))  # Ajustar el tamaño del gráfico\n",
    "barras = plt.bar(suma_precios_marca.index, suma_precios_marca, color='skyblue')  # Crear barras con color azul celeste\n",
    "\n",
    "# Personalizo el gráfico\n",
    "plt.xlabel('Marca')\n",
    "plt.ylabel('Suma de precios')\n",
    "plt.title('Suma de precios por marca')\n",
    "plt.xticks(rotation=45, ha='right')  # Rotar y alinear las etiquetas de marca\n",
    "plt.ticklabel_format(style='plain', axis='y')  # Mostrar números completos en el eje y\n",
    "plt.tight_layout()\n",
    "\n",
    "# Mostrar el gráfico\n",
    "plt.show()"
   ]
  },
  {
   "cell_type": "code",
   "execution_count": null,
   "metadata": {},
   "outputs": [],
   "source": [
    "# REGRESIÓN LINEAL SIMPLE (RLS)\n",
    "# La regresión lineal simple (RLS) es un algoritmo de aprendizaje automático supervisado que se utiliza para modelar la relación entre dos variables. \n",
    "# una variable dependiente (y) y una variable independiente (x). \n",
    "# El objetivo del algoritmo es encontrar una línea recta que mejor se ajuste a los datos observados y que pueda usarse para predecir el valor de y para nuevos valores de x"
   ]
  },
  {
   "cell_type": "code",
   "execution_count": 109,
   "metadata": {},
   "outputs": [
    {
     "data": {
      "text/html": [
       "<div>\n",
       "<style scoped>\n",
       "    .dataframe tbody tr th:only-of-type {\n",
       "        vertical-align: middle;\n",
       "    }\n",
       "\n",
       "    .dataframe tbody tr th {\n",
       "        vertical-align: top;\n",
       "    }\n",
       "\n",
       "    .dataframe thead th {\n",
       "        text-align: right;\n",
       "    }\n",
       "</style>\n",
       "<table border=\"1\" class=\"dataframe\">\n",
       "  <thead>\n",
       "    <tr style=\"text-align: right;\">\n",
       "      <th></th>\n",
       "      <th>ID</th>\n",
       "      <th>Título</th>\n",
       "      <th>Precio</th>\n",
       "      <th>Precio Original</th>\n",
       "      <th>Condición</th>\n",
       "      <th>Cantidad disponible</th>\n",
       "      <th>Marca</th>\n",
       "      <th>Envío gratuito</th>\n",
       "    </tr>\n",
       "  </thead>\n",
       "  <tbody>\n",
       "    <tr>\n",
       "      <th>0</th>\n",
       "      <td>MLA1422976047</td>\n",
       "      <td>Celular Quantum Q10 Negro 4gb Ram + 128gb</td>\n",
       "      <td>148800.0</td>\n",
       "      <td>193999.0</td>\n",
       "      <td>new</td>\n",
       "      <td>1</td>\n",
       "      <td>Quantum</td>\n",
       "      <td>True</td>\n",
       "    </tr>\n",
       "    <tr>\n",
       "      <th>1</th>\n",
       "      <td>MLA1570099690</td>\n",
       "      <td>Moto G84 5g Color Viva Magenta</td>\n",
       "      <td>499999.0</td>\n",
       "      <td>549999.0</td>\n",
       "      <td>new</td>\n",
       "      <td>50</td>\n",
       "      <td>Motorola</td>\n",
       "      <td>True</td>\n",
       "    </tr>\n",
       "    <tr>\n",
       "      <th>2</th>\n",
       "      <td>MLA1658689660</td>\n",
       "      <td>Xiaomi Redmi Note 11 4gb Ram 128gb Rom Color G...</td>\n",
       "      <td>323519.0</td>\n",
       "      <td>369999.0</td>\n",
       "      <td>new</td>\n",
       "      <td>50</td>\n",
       "      <td>Xiaomi</td>\n",
       "      <td>True</td>\n",
       "    </tr>\n",
       "    <tr>\n",
       "      <th>3</th>\n",
       "      <td>MLA1471211850</td>\n",
       "      <td>Motorola Moto E22 64gb Azul 4gb Ram</td>\n",
       "      <td>229999.0</td>\n",
       "      <td>249999.0</td>\n",
       "      <td>new</td>\n",
       "      <td>500</td>\n",
       "      <td>Motorola</td>\n",
       "      <td>True</td>\n",
       "    </tr>\n",
       "    <tr>\n",
       "      <th>4</th>\n",
       "      <td>MLA1399356383</td>\n",
       "      <td>Teléfono Celular Tcl 408 (6+64) Gravity Gray Rva</td>\n",
       "      <td>189999.0</td>\n",
       "      <td>222599.0</td>\n",
       "      <td>new</td>\n",
       "      <td>1</td>\n",
       "      <td>TCL</td>\n",
       "      <td>True</td>\n",
       "    </tr>\n",
       "  </tbody>\n",
       "</table>\n",
       "</div>"
      ],
      "text/plain": [
       "              ID                                             Título    Precio  \\\n",
       "0  MLA1422976047          Celular Quantum Q10 Negro 4gb Ram + 128gb  148800.0   \n",
       "1  MLA1570099690                     Moto G84 5g Color Viva Magenta  499999.0   \n",
       "2  MLA1658689660  Xiaomi Redmi Note 11 4gb Ram 128gb Rom Color G...  323519.0   \n",
       "3  MLA1471211850                Motorola Moto E22 64gb Azul 4gb Ram  229999.0   \n",
       "4  MLA1399356383   Teléfono Celular Tcl 408 (6+64) Gravity Gray Rva  189999.0   \n",
       "\n",
       "   Precio Original Condición  Cantidad disponible     Marca  Envío gratuito  \n",
       "0         193999.0       new                    1   Quantum            True  \n",
       "1         549999.0       new                   50  Motorola            True  \n",
       "2         369999.0       new                   50    Xiaomi            True  \n",
       "3         249999.0       new                  500  Motorola            True  \n",
       "4         222599.0       new                    1       TCL            True  "
      ]
     },
     "execution_count": 109,
     "metadata": {},
     "output_type": "execute_result"
    }
   ],
   "source": [
    "# Realizo la importación de los datos.\n",
    "\n",
    "df = pd.read_csv('celulares.csv', encoding='latin1')\n",
    "df.head()"
   ]
  },
  {
   "cell_type": "code",
   "execution_count": 110,
   "metadata": {},
   "outputs": [
    {
     "data": {
      "text/html": [
       "<div>\n",
       "<style scoped>\n",
       "    .dataframe tbody tr th:only-of-type {\n",
       "        vertical-align: middle;\n",
       "    }\n",
       "\n",
       "    .dataframe tbody tr th {\n",
       "        vertical-align: top;\n",
       "    }\n",
       "\n",
       "    .dataframe thead th {\n",
       "        text-align: right;\n",
       "    }\n",
       "</style>\n",
       "<table border=\"1\" class=\"dataframe\">\n",
       "  <thead>\n",
       "    <tr style=\"text-align: right;\">\n",
       "      <th></th>\n",
       "      <th>Precio</th>\n",
       "      <th>Cantidad disponible</th>\n",
       "    </tr>\n",
       "  </thead>\n",
       "  <tbody>\n",
       "    <tr>\n",
       "      <th>0</th>\n",
       "      <td>148800.0</td>\n",
       "      <td>1</td>\n",
       "    </tr>\n",
       "    <tr>\n",
       "      <th>1</th>\n",
       "      <td>499999.0</td>\n",
       "      <td>50</td>\n",
       "    </tr>\n",
       "    <tr>\n",
       "      <th>2</th>\n",
       "      <td>323519.0</td>\n",
       "      <td>50</td>\n",
       "    </tr>\n",
       "    <tr>\n",
       "      <th>3</th>\n",
       "      <td>229999.0</td>\n",
       "      <td>500</td>\n",
       "    </tr>\n",
       "    <tr>\n",
       "      <th>4</th>\n",
       "      <td>189999.0</td>\n",
       "      <td>1</td>\n",
       "    </tr>\n",
       "  </tbody>\n",
       "</table>\n",
       "</div>"
      ],
      "text/plain": [
       "     Precio  Cantidad disponible\n",
       "0  148800.0                    1\n",
       "1  499999.0                   50\n",
       "2  323519.0                   50\n",
       "3  229999.0                  500\n",
       "4  189999.0                    1"
      ]
     },
     "execution_count": 110,
     "metadata": {},
     "output_type": "execute_result"
    }
   ],
   "source": [
    "# Deseo quedarme únicamente con esas dos columnas, asi que elimino las demás.\n",
    "\n",
    "df.drop([\"ID\"], axis = 1, inplace = True)\n",
    "df.drop([\"Título\"], axis = 1, inplace = True)\n",
    "df.drop([\"Precio Original\"], axis = 1, inplace = True)\n",
    "df.drop([\"Condición\"], axis = 1, inplace = True)\n",
    "df.drop([\"Marca\"], axis = 1, inplace = True)\n",
    "df.drop([\"Envío gratuito\"], axis = 1, inplace = True)\n",
    "df.head()"
   ]
  },
  {
   "cell_type": "code",
   "execution_count": 112,
   "metadata": {},
   "outputs": [
    {
     "data": {
      "image/png": "[encoded data removed]",
      "text/plain": [
       "<Figure size 640x480 with 1 Axes>"
      ]
     },
     "metadata": {},
     "output_type": "display_data"
    }
   ],
   "source": [
    "# Gráfico los puntos de datos en un diagrama en dos dimensiones para ilustrar el dataset.\n",
    "# Verifico si manualmente puedo encontrar alguna relación entre los datos.\n",
    "# Vemos una proyección ascendente en este caso.\n",
    "\n",
    "df.plot(x='Precio', y='Cantidad disponible', style='o') \n",
    "plt.title('Precio vs Cantidad disponible') \n",
    "plt.xlabel('Precio') \n",
    "plt.ylabel('Cantidad disponible') \n",
    "plt.show()\n",
    "\n",
    "# A Simple vista puedo observar que no se ve relación en estas variables.\n",
    "# Sin embargo continuaré con el analisis para desarrllar este algoritmo."
   ]
  },
  {
   "cell_type": "code",
   "execution_count": 114,
   "metadata": {},
   "outputs": [
    {
     "name": "stderr",
     "output_type": "stream",
     "text": [
      "d:\\Anacondist\\Lib\\site-packages\\seaborn\\axisgrid.py:118: UserWarning: The figure layout has changed to tight\n",
      "  self._figure.tight_layout(*args, **kwargs)\n"
     ]
    },
    {
     "data": {
      "text/plain": [
       "<seaborn.axisgrid.FacetGrid at 0x16855274e50>"
      ]
     },
     "execution_count": 114,
     "metadata": {},
     "output_type": "execute_result"
    },
    {
     "data": {
      "text/plain": [
       "<Figure size 1500x1000 with 0 Axes>"
      ]
     },
     "metadata": {},
     "output_type": "display_data"
    },
    {
     "data": {
      "image/png": "[encoded data removed]",
      "text/plain": [
       "<Figure size 500x500 with 1 Axes>"
      ]
     },
     "metadata": {},
     "output_type": "display_data"
    }
   ],
   "source": [
    "# Busco el valor de Precio Original promedio y lo represento con un gráfico de barras.\n",
    "\n",
    "plt.figure(figsize=(15,10))\n",
    "plt.tight_layout()\n",
    "seabornInstance.displot(df['Cantidad disponible'])"
   ]
  },
  {
   "cell_type": "code",
   "execution_count": 115,
   "metadata": {},
   "outputs": [
    {
     "data": {
      "text/html": [
       "<div>\n",
       "<style scoped>\n",
       "    .dataframe tbody tr th:only-of-type {\n",
       "        vertical-align: middle;\n",
       "    }\n",
       "\n",
       "    .dataframe tbody tr th {\n",
       "        vertical-align: top;\n",
       "    }\n",
       "\n",
       "    .dataframe thead th {\n",
       "        text-align: right;\n",
       "    }\n",
       "</style>\n",
       "<table border=\"1\" class=\"dataframe\">\n",
       "  <thead>\n",
       "    <tr style=\"text-align: right;\">\n",
       "      <th></th>\n",
       "      <th>X</th>\n",
       "      <th>y</th>\n",
       "    </tr>\n",
       "  </thead>\n",
       "  <tbody>\n",
       "    <tr>\n",
       "      <th>0</th>\n",
       "      <td>148800.0</td>\n",
       "      <td>1</td>\n",
       "    </tr>\n",
       "    <tr>\n",
       "      <th>1</th>\n",
       "      <td>499999.0</td>\n",
       "      <td>50</td>\n",
       "    </tr>\n",
       "    <tr>\n",
       "      <th>2</th>\n",
       "      <td>323519.0</td>\n",
       "      <td>50</td>\n",
       "    </tr>\n",
       "    <tr>\n",
       "      <th>3</th>\n",
       "      <td>229999.0</td>\n",
       "      <td>500</td>\n",
       "    </tr>\n",
       "    <tr>\n",
       "      <th>4</th>\n",
       "      <td>189999.0</td>\n",
       "      <td>1</td>\n",
       "    </tr>\n",
       "    <tr>\n",
       "      <th>...</th>\n",
       "      <td>...</td>\n",
       "      <td>...</td>\n",
       "    </tr>\n",
       "    <tr>\n",
       "      <th>145</th>\n",
       "      <td>1366999.0</td>\n",
       "      <td>1</td>\n",
       "    </tr>\n",
       "    <tr>\n",
       "      <th>146</th>\n",
       "      <td>788999.0</td>\n",
       "      <td>1</td>\n",
       "    </tr>\n",
       "    <tr>\n",
       "      <th>147</th>\n",
       "      <td>421999.0</td>\n",
       "      <td>1</td>\n",
       "    </tr>\n",
       "    <tr>\n",
       "      <th>148</th>\n",
       "      <td>660000.0</td>\n",
       "      <td>1</td>\n",
       "    </tr>\n",
       "    <tr>\n",
       "      <th>149</th>\n",
       "      <td>449990.0</td>\n",
       "      <td>1</td>\n",
       "    </tr>\n",
       "  </tbody>\n",
       "</table>\n",
       "<p>150 rows × 2 columns</p>\n",
       "</div>"
      ],
      "text/plain": [
       "             X    y\n",
       "0     148800.0    1\n",
       "1     499999.0   50\n",
       "2     323519.0   50\n",
       "3     229999.0  500\n",
       "4     189999.0    1\n",
       "..         ...  ...\n",
       "145  1366999.0    1\n",
       "146   788999.0    1\n",
       "147   421999.0    1\n",
       "148   660000.0    1\n",
       "149   449990.0    1\n",
       "\n",
       "[150 rows x 2 columns]"
      ]
     },
     "execution_count": 115,
     "metadata": {},
     "output_type": "execute_result"
    }
   ],
   "source": [
    "# Dividido los datos en variable independiente y variable dependiente cuyos valores se deben predecir. \n",
    "\n",
    "X = df['Precio'].values.reshape(-1,1)\n",
    "y = df['Cantidad disponible'].values.reshape(-1,1)\n",
    "df_aux = pd.DataFrame({'X': X.flatten(), 'y': y.flatten()})\n",
    "df_aux"
   ]
  },
  {
   "cell_type": "code",
   "execution_count": 116,
   "metadata": {},
   "outputs": [
    {
     "data": {
      "text/html": [
       "<div>\n",
       "<style scoped>\n",
       "    .dataframe tbody tr th:only-of-type {\n",
       "        vertical-align: middle;\n",
       "    }\n",
       "\n",
       "    .dataframe tbody tr th {\n",
       "        vertical-align: top;\n",
       "    }\n",
       "\n",
       "    .dataframe thead th {\n",
       "        text-align: right;\n",
       "    }\n",
       "</style>\n",
       "<table border=\"1\" class=\"dataframe\">\n",
       "  <thead>\n",
       "    <tr style=\"text-align: right;\">\n",
       "      <th></th>\n",
       "      <th>X_train</th>\n",
       "      <th>y_train</th>\n",
       "    </tr>\n",
       "  </thead>\n",
       "  <tbody>\n",
       "    <tr>\n",
       "      <th>0</th>\n",
       "      <td>349999.00</td>\n",
       "      <td>1</td>\n",
       "    </tr>\n",
       "    <tr>\n",
       "      <th>1</th>\n",
       "      <td>682499.00</td>\n",
       "      <td>50</td>\n",
       "    </tr>\n",
       "    <tr>\n",
       "      <th>2</th>\n",
       "      <td>257999.00</td>\n",
       "      <td>1</td>\n",
       "    </tr>\n",
       "    <tr>\n",
       "      <th>3</th>\n",
       "      <td>38898.00</td>\n",
       "      <td>1</td>\n",
       "    </tr>\n",
       "    <tr>\n",
       "      <th>4</th>\n",
       "      <td>1682999.45</td>\n",
       "      <td>1</td>\n",
       "    </tr>\n",
       "  </tbody>\n",
       "</table>\n",
       "</div>"
      ],
      "text/plain": [
       "      X_train  y_train\n",
       "0   349999.00        1\n",
       "1   682499.00       50\n",
       "2   257999.00        1\n",
       "3    38898.00        1\n",
       "4  1682999.45        1"
      ]
     },
     "execution_count": 116,
     "metadata": {},
     "output_type": "execute_result"
    }
   ],
   "source": [
    "# Utilizo train_test_split para dividir un dataset en bloques. \n",
    "# Conjunto de testing y conjunto de entrenamiento.\n",
    "\n",
    "\n",
    "X_train, X_test, y_train, y_test = train_test_split(X, y, test_size=0.2, random_state=0)\n",
    "df_aux = pd.DataFrame({'X_train': X_train.flatten(), 'y_train': y_train.flatten()})\n",
    "df_aux.head()"
   ]
  },
  {
   "cell_type": "code",
   "execution_count": 117,
   "metadata": {},
   "outputs": [
    {
     "data": {
      "text/html": [
       "<div>\n",
       "<style scoped>\n",
       "    .dataframe tbody tr th:only-of-type {\n",
       "        vertical-align: middle;\n",
       "    }\n",
       "\n",
       "    .dataframe tbody tr th {\n",
       "        vertical-align: top;\n",
       "    }\n",
       "\n",
       "    .dataframe thead th {\n",
       "        text-align: right;\n",
       "    }\n",
       "</style>\n",
       "<table border=\"1\" class=\"dataframe\">\n",
       "  <thead>\n",
       "    <tr style=\"text-align: right;\">\n",
       "      <th></th>\n",
       "      <th>X_test</th>\n",
       "      <th>y_test</th>\n",
       "    </tr>\n",
       "  </thead>\n",
       "  <tbody>\n",
       "    <tr>\n",
       "      <th>0</th>\n",
       "      <td>429888.0</td>\n",
       "      <td>1</td>\n",
       "    </tr>\n",
       "    <tr>\n",
       "      <th>1</th>\n",
       "      <td>165399.0</td>\n",
       "      <td>500</td>\n",
       "    </tr>\n",
       "    <tr>\n",
       "      <th>2</th>\n",
       "      <td>189999.0</td>\n",
       "      <td>1</td>\n",
       "    </tr>\n",
       "    <tr>\n",
       "      <th>3</th>\n",
       "      <td>450000.0</td>\n",
       "      <td>1</td>\n",
       "    </tr>\n",
       "    <tr>\n",
       "      <th>4</th>\n",
       "      <td>169411.0</td>\n",
       "      <td>1</td>\n",
       "    </tr>\n",
       "  </tbody>\n",
       "</table>\n",
       "</div>"
      ],
      "text/plain": [
       "     X_test  y_test\n",
       "0  429888.0       1\n",
       "1  165399.0     500\n",
       "2  189999.0       1\n",
       "3  450000.0       1\n",
       "4  169411.0       1"
      ]
     },
     "execution_count": 117,
     "metadata": {},
     "output_type": "execute_result"
    }
   ],
   "source": [
    "df_aux = pd.DataFrame({'X_test': X_test.flatten(), 'y_test': y_test.flatten()})\n",
    "df_aux.head()"
   ]
  },
  {
   "cell_type": "code",
   "execution_count": 118,
   "metadata": {},
   "outputs": [
    {
     "data": {
      "text/html": [
       "<style>#sk-container-id-1 {color: black;}#sk-container-id-1 pre{padding: 0;}#sk-container-id-1 div.sk-toggleable {background-color: white;}#sk-container-id-1 label.sk-toggleable__label {cursor: pointer;display: block;width: 100%;margin-bottom: 0;padding: 0.3em;box-sizing: border-box;text-align: center;}#sk-container-id-1 label.sk-toggleable__label-arrow:before {content: \"▸\";float: left;margin-right: 0.25em;color: #696969;}#sk-container-id-1 label.sk-toggleable__label-arrow:hover:before {color: black;}#sk-container-id-1 div.sk-estimator:hover label.sk-toggleable__label-arrow:before {color: black;}#sk-container-id-1 div.sk-toggleable__content {max-height: 0;max-width: 0;overflow: hidden;text-align: left;background-color: #f0f8ff;}#sk-container-id-1 div.sk-toggleable__content pre {margin: 0.2em;color: black;border-radius: 0.25em;background-color: #f0f8ff;}#sk-container-id-1 input.sk-toggleable__control:checked~div.sk-toggleable__content {max-height: 200px;max-width: 100%;overflow: auto;}#sk-container-id-1 input.sk-toggleable__control:checked~label.sk-toggleable__label-arrow:before {content: \"▾\";}#sk-container-id-1 div.sk-estimator input.sk-toggleable__control:checked~label.sk-toggleable__label {background-color: #d4ebff;}#sk-container-id-1 div.sk-label input.sk-toggleable__control:checked~label.sk-toggleable__label {background-color: #d4ebff;}#sk-container-id-1 input.sk-hidden--visually {border: 0;clip: rect(1px 1px 1px 1px);clip: rect(1px, 1px, 1px, 1px);height: 1px;margin: -1px;overflow: hidden;padding: 0;position: absolute;width: 1px;}#sk-container-id-1 div.sk-estimator {font-family: monospace;background-color: #f0f8ff;border: 1px dotted black;border-radius: 0.25em;box-sizing: border-box;margin-bottom: 0.5em;}#sk-container-id-1 div.sk-estimator:hover {background-color: #d4ebff;}#sk-container-id-1 div.sk-parallel-item::after {content: \"\";width: 100%;border-bottom: 1px solid gray;flex-grow: 1;}#sk-container-id-1 div.sk-label:hover label.sk-toggleable__label {background-color: #d4ebff;}#sk-container-id-1 div.sk-serial::before {content: \"\";position: absolute;border-left: 1px solid gray;box-sizing: border-box;top: 0;bottom: 0;left: 50%;z-index: 0;}#sk-container-id-1 div.sk-serial {display: flex;flex-direction: column;align-items: center;background-color: white;padding-right: 0.2em;padding-left: 0.2em;position: relative;}#sk-container-id-1 div.sk-item {position: relative;z-index: 1;}#sk-container-id-1 div.sk-parallel {display: flex;align-items: stretch;justify-content: center;background-color: white;position: relative;}#sk-container-id-1 div.sk-item::before, #sk-container-id-1 div.sk-parallel-item::before {content: \"\";position: absolute;border-left: 1px solid gray;box-sizing: border-box;top: 0;bottom: 0;left: 50%;z-index: -1;}#sk-container-id-1 div.sk-parallel-item {display: flex;flex-direction: column;z-index: 1;position: relative;background-color: white;}#sk-container-id-1 div.sk-parallel-item:first-child::after {align-self: flex-end;width: 50%;}#sk-container-id-1 div.sk-parallel-item:last-child::after {align-self: flex-start;width: 50%;}#sk-container-id-1 div.sk-parallel-item:only-child::after {width: 0;}#sk-container-id-1 div.sk-dashed-wrapped {border: 1px dashed gray;margin: 0 0.4em 0.5em 0.4em;box-sizing: border-box;padding-bottom: 0.4em;background-color: white;}#sk-container-id-1 div.sk-label label {font-family: monospace;font-weight: bold;display: inline-block;line-height: 1.2em;}#sk-container-id-1 div.sk-label-container {text-align: center;}#sk-container-id-1 div.sk-container {/* jupyter's `normalize.less` sets `[hidden] { display: none; }` but bootstrap.min.css set `[hidden] { display: none !important; }` so we also need the `!important` here to be able to override the default hidden behavior on the sphinx rendered scikit-learn.org. See: https://github.com/scikit-learn/scikit-learn/issues/21755 */display: inline-block !important;position: relative;}#sk-container-id-1 div.sk-text-repr-fallback {display: none;}</style><div id=\"sk-container-id-1\" class=\"sk-top-container\"><div class=\"sk-text-repr-fallback\"><pre>LinearRegression()</pre><b>In a Jupyter environment, please rerun this cell to show the HTML representation or trust the notebook. <br />On GitHub, the HTML representation is unable to render, please try loading this page with nbviewer.org.</b></div><div class=\"sk-container\" hidden><div class=\"sk-item\"><div class=\"sk-estimator sk-toggleable\"><input class=\"sk-toggleable__control sk-hidden--visually\" id=\"sk-estimator-id-1\" type=\"checkbox\" checked><label for=\"sk-estimator-id-1\" class=\"sk-toggleable__label sk-toggleable__label-arrow\">LinearRegression</label><div class=\"sk-toggleable__content\"><pre>LinearRegression()</pre></div></div></div></div></div>"
      ],
      "text/plain": [
       "LinearRegression()"
      ]
     },
     "execution_count": 118,
     "metadata": {},
     "output_type": "execute_result"
    }
   ],
   "source": [
    "# Realizo el entrenamiento del algoritmo\n",
    "\n",
    "regressor = LinearRegression() \n",
    "regressor.fit(X_train, y_train) "
   ]
  },
  {
   "cell_type": "code",
   "execution_count": 119,
   "metadata": {},
   "outputs": [
    {
     "name": "stdout",
     "output_type": "stream",
     "text": [
      "[59.68732656]\n"
     ]
    }
   ],
   "source": [
    "# obtengo el interceptor.\n",
    "\n",
    "print(regressor.intercept_)"
   ]
  },
  {
   "cell_type": "code",
   "execution_count": 120,
   "metadata": {},
   "outputs": [
    {
     "name": "stdout",
     "output_type": "stream",
     "text": [
      "[[-3.48468265e-05]]\n"
     ]
    }
   ],
   "source": [
    "# obtengo la pendiente.\n",
    "\n",
    "print(regressor.coef_)"
   ]
  },
  {
   "cell_type": "code",
   "execution_count": null,
   "metadata": {},
   "outputs": [],
   "source": [
    "# El resultado debe ser aproximadamente 59.68732656 y -3.48468265e-05 respectivamente. \n",
    "# Esto significa que por cada unidad de cambio en el precio, \n",
    "# el cambio en la Cantidad disponible es de al rededor de -3.484e-05%.\n",
    "# son valores que siguen haciendo ruido, pero continuaré con el analisis, ya que el objetivo es descriptivo mas que llegar a un resultado particular.\n"
   ]
  },
  {
   "cell_type": "code",
   "execution_count": 121,
   "metadata": {},
   "outputs": [],
   "source": [
    "# Utilizo el método predict() para tomar este conjunto de características y devolver las predicciones correspondientes para la variable dependiente.\n",
    "\n",
    "y_pred = regressor.predict(X_test)"
   ]
  },
  {
   "cell_type": "code",
   "execution_count": 122,
   "metadata": {},
   "outputs": [
    {
     "data": {
      "text/html": [
       "<div>\n",
       "<style scoped>\n",
       "    .dataframe tbody tr th:only-of-type {\n",
       "        vertical-align: middle;\n",
       "    }\n",
       "\n",
       "    .dataframe tbody tr th {\n",
       "        vertical-align: top;\n",
       "    }\n",
       "\n",
       "    .dataframe thead th {\n",
       "        text-align: right;\n",
       "    }\n",
       "</style>\n",
       "<table border=\"1\" class=\"dataframe\">\n",
       "  <thead>\n",
       "    <tr style=\"text-align: right;\">\n",
       "      <th></th>\n",
       "      <th>Actual</th>\n",
       "      <th>Predicted</th>\n",
       "    </tr>\n",
       "  </thead>\n",
       "  <tbody>\n",
       "    <tr>\n",
       "      <th>0</th>\n",
       "      <td>1</td>\n",
       "      <td>44.707094</td>\n",
       "    </tr>\n",
       "    <tr>\n",
       "      <th>1</th>\n",
       "      <td>500</td>\n",
       "      <td>53.923696</td>\n",
       "    </tr>\n",
       "    <tr>\n",
       "      <th>2</th>\n",
       "      <td>1</td>\n",
       "      <td>53.066464</td>\n",
       "    </tr>\n",
       "    <tr>\n",
       "      <th>3</th>\n",
       "      <td>1</td>\n",
       "      <td>44.006255</td>\n",
       "    </tr>\n",
       "    <tr>\n",
       "      <th>4</th>\n",
       "      <td>1</td>\n",
       "      <td>53.783891</td>\n",
       "    </tr>\n",
       "    <tr>\n",
       "      <th>5</th>\n",
       "      <td>1</td>\n",
       "      <td>5.779321</td>\n",
       "    </tr>\n",
       "    <tr>\n",
       "      <th>6</th>\n",
       "      <td>1</td>\n",
       "      <td>57.683704</td>\n",
       "    </tr>\n",
       "    <tr>\n",
       "      <th>7</th>\n",
       "      <td>1</td>\n",
       "      <td>51.708484</td>\n",
       "    </tr>\n",
       "    <tr>\n",
       "      <th>8</th>\n",
       "      <td>1</td>\n",
       "      <td>37.908060</td>\n",
       "    </tr>\n",
       "    <tr>\n",
       "      <th>9</th>\n",
       "      <td>1</td>\n",
       "      <td>49.185852</td>\n",
       "    </tr>\n",
       "    <tr>\n",
       "      <th>10</th>\n",
       "      <td>1</td>\n",
       "      <td>27.976018</td>\n",
       "    </tr>\n",
       "    <tr>\n",
       "      <th>11</th>\n",
       "      <td>1</td>\n",
       "      <td>50.393155</td>\n",
       "    </tr>\n",
       "    <tr>\n",
       "      <th>12</th>\n",
       "      <td>1</td>\n",
       "      <td>45.469856</td>\n",
       "    </tr>\n",
       "    <tr>\n",
       "      <th>13</th>\n",
       "      <td>1</td>\n",
       "      <td>49.207213</td>\n",
       "    </tr>\n",
       "    <tr>\n",
       "      <th>14</th>\n",
       "      <td>1</td>\n",
       "      <td>53.066430</td>\n",
       "    </tr>\n",
       "    <tr>\n",
       "      <th>15</th>\n",
       "      <td>50</td>\n",
       "      <td>48.846514</td>\n",
       "    </tr>\n",
       "    <tr>\n",
       "      <th>16</th>\n",
       "      <td>1</td>\n",
       "      <td>57.422283</td>\n",
       "    </tr>\n",
       "    <tr>\n",
       "      <th>17</th>\n",
       "      <td>1</td>\n",
       "      <td>19.787710</td>\n",
       "    </tr>\n",
       "    <tr>\n",
       "      <th>18</th>\n",
       "      <td>50</td>\n",
       "      <td>49.916311</td>\n",
       "    </tr>\n",
       "    <tr>\n",
       "      <th>19</th>\n",
       "      <td>150</td>\n",
       "      <td>39.824670</td>\n",
       "    </tr>\n",
       "    <tr>\n",
       "      <th>20</th>\n",
       "      <td>1</td>\n",
       "      <td>53.066430</td>\n",
       "    </tr>\n",
       "    <tr>\n",
       "      <th>21</th>\n",
       "      <td>1</td>\n",
       "      <td>24.596607</td>\n",
       "    </tr>\n",
       "    <tr>\n",
       "      <th>22</th>\n",
       "      <td>50</td>\n",
       "      <td>58.443504</td>\n",
       "    </tr>\n",
       "    <tr>\n",
       "      <th>23</th>\n",
       "      <td>150</td>\n",
       "      <td>57.387784</td>\n",
       "    </tr>\n",
       "    <tr>\n",
       "      <th>24</th>\n",
       "      <td>1</td>\n",
       "      <td>53.005448</td>\n",
       "    </tr>\n",
       "    <tr>\n",
       "      <th>25</th>\n",
       "      <td>1</td>\n",
       "      <td>51.846825</td>\n",
       "    </tr>\n",
       "    <tr>\n",
       "      <th>26</th>\n",
       "      <td>200</td>\n",
       "      <td>41.392778</td>\n",
       "    </tr>\n",
       "    <tr>\n",
       "      <th>27</th>\n",
       "      <td>50</td>\n",
       "      <td>32.789096</td>\n",
       "    </tr>\n",
       "    <tr>\n",
       "      <th>28</th>\n",
       "      <td>1</td>\n",
       "      <td>4.793121</td>\n",
       "    </tr>\n",
       "    <tr>\n",
       "      <th>29</th>\n",
       "      <td>500</td>\n",
       "      <td>47.490972</td>\n",
       "    </tr>\n",
       "  </tbody>\n",
       "</table>\n",
       "</div>"
      ],
      "text/plain": [
       "    Actual  Predicted\n",
       "0        1  44.707094\n",
       "1      500  53.923696\n",
       "2        1  53.066464\n",
       "3        1  44.006255\n",
       "4        1  53.783891\n",
       "5        1   5.779321\n",
       "6        1  57.683704\n",
       "7        1  51.708484\n",
       "8        1  37.908060\n",
       "9        1  49.185852\n",
       "10       1  27.976018\n",
       "11       1  50.393155\n",
       "12       1  45.469856\n",
       "13       1  49.207213\n",
       "14       1  53.066430\n",
       "15      50  48.846514\n",
       "16       1  57.422283\n",
       "17       1  19.787710\n",
       "18      50  49.916311\n",
       "19     150  39.824670\n",
       "20       1  53.066430\n",
       "21       1  24.596607\n",
       "22      50  58.443504\n",
       "23     150  57.387784\n",
       "24       1  53.005448\n",
       "25       1  51.846825\n",
       "26     200  41.392778\n",
       "27      50  32.789096\n",
       "28       1   4.793121\n",
       "29     500  47.490972"
      ]
     },
     "execution_count": 122,
     "metadata": {},
     "output_type": "execute_result"
    }
   ],
   "source": [
    "# Percibo que el valor que obtengo en la columna Predicted se acerca bastante al Actual.\n",
    "\n",
    "df_aux = pd.DataFrame({'Actual': y_test.flatten(), 'Predicted': y_pred.flatten()})\n",
    "df_aux"
   ]
  },
  {
   "cell_type": "code",
   "execution_count": 123,
   "metadata": {},
   "outputs": [
    {
     "data": {
      "image/png": "[encoded data removed]",
      "text/plain": [
       "<Figure size 1600x1000 with 1 Axes>"
      ]
     },
     "metadata": {},
     "output_type": "display_data"
    }
   ],
   "source": [
    "# Realizo un gráfico de barras mostrando la comparación de valores reales y predichos.\n",
    "# Tomo unos 25 registros.\n",
    "\n",
    "\n",
    "df1 = df_aux.head(25)\n",
    "df1.plot(kind='bar',figsize=(16,10))\n",
    "plt.grid(which='major', linestyle='-', linewidth='0.5', color='green')\n",
    "plt.grid(which='minor', linestyle=':', linewidth='0.5', color='black')\n",
    "plt.show()"
   ]
  },
  {
   "cell_type": "code",
   "execution_count": 124,
   "metadata": {},
   "outputs": [
    {
     "data": {
      "image/png": "[encoded data removed]",
      "text/plain": [
       "<Figure size 640x480 with 1 Axes>"
      ]
     },
     "metadata": {},
     "output_type": "display_data"
    }
   ],
   "source": [
    "# Los porcentajes predichos en su mayoria no se acercan a los reales. \n",
    "# Trazo una línea recta con los datos de la prueba.\n",
    "\n",
    "plt.scatter(X_test, y_test,  color='gray')\n",
    "plt.plot(X_test, y_pred, color='red', linewidth=2)\n",
    "plt.show()"
   ]
  },
  {
   "cell_type": "code",
   "execution_count": null,
   "metadata": {},
   "outputs": [],
   "source": [
    "# Finalmente analizaré el Error Absoluto Medio, el Error Cuadratico Medio y la Raíz del error cuadrático medio.\n",
    "# El Error Absoluto Medio mide la magnitud promedio de los errores en las predicciones del modelo. Se calcula tomando la diferencia absoluta entre cada valor predicho y el valor real, y luego promediando esos errores.\n",
    "# El Error Cuadrático Medio calcula el promedio de los errores al cuadrado entre las predicciones y los valores reales. Al elevar los errores al cuadrado, este métrica da más peso a los errores más grandes.\n",
    "# La Raíz del Error Cuadrático Medio es simplemente la raíz cuadrada del MSE. Proporciona una medida del error promedio, similar al MAE, pero está en la misma escala que los valores originales."
   ]
  },
  {
   "cell_type": "code",
   "execution_count": 125,
   "metadata": {},
   "outputs": [
    {
     "name": "stdout",
     "output_type": "stream",
     "text": [
      "Error Absoluto Medio: 71.81106338984901\n",
      "Error Cuadratico Medio: 16367.525192028399\n",
      "Raíz del error cuadrático medio: 127.93562909537124\n"
     ]
    }
   ],
   "source": [
    "print('Error Absoluto Medio:',metrics.mean_absolute_error(y_test, y_pred)) \n",
    "print('Error Cuadratico Medio:', metrics.mean_squared_error(y_test, y_pred)) \n",
    "print('Raíz del error cuadrático medio:', np.sqrt(metrics.mean_squared_error(y_test, y_pred)))"
   ]
  },
  {
   "cell_type": "code",
   "execution_count": null,
   "metadata": {},
   "outputs": [],
   "source": [
    "# Teniendo en cuenta estos valores, puedo sacar algunas conclusiones:\n",
    "\n",
    "# El Error Absoluto Medio de aproximadamente 71.81 indica que, en promedio, las predicciones difieren del valor real en aproximadamente 71.81 unidades en la escala de Cantidad disponible.\n",
    "# El Error Cuadrático Medio de aproximadamente 16367.52 muestra que los errores entre las predicciones y los valores reales pueden ser mayores en magnitud debido al efecto del cuadrado.\n",
    "# La Raíz del Error Cuadrático Medio de aproximadamente 127.93 indica que, en promedio, las predicciones difieren del valor real en aproximadamente 127.93 unidades en la escala de Cantidad disponible.\n",
    "\n",
    "# Por lo tanto, los resultados indican que el modelo tiene un error promedio Extremadamente alto en las predicciones de Cantidad disponible con respecto a Precio.\n",
    "# El error Cuadratico se encuentra además muy por fuera de los valores acordes ya que no deberia pasar el 10% de la media de Cantidad disponible\n",
    "# En lineas generales, si bien habia indicios a la vista de los graficos, la conclusión en general es que no hay ningun tipo de relación entre estas variables y hay una justificación tecnica por lo plasmado."
   ]
  }
 ],
 "metadata": {
  "kernelspec": {
   "display_name": "base",
   "language": "python",
   "name": "python3"
  },
  "language_info": {
   "codemirror_mode": {
    "name": "ipython",
    "version": 3
   },
   "file_extension": ".py",
   "mimetype": "text/x-python",
   "name": "python",
   "nbconvert_exporter": "python",
   "pygments_lexer": "ipython3",
   "version": "3.11.5"
  }
 },
 "nbformat": 4,
 "nbformat_minor": 2
}
